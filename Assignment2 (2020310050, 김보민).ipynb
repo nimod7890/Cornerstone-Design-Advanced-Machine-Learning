{
  "cells": [
    {
      "cell_type": "markdown",
      "metadata": {
        "id": "meGL-F1KzXS7"
      },
      "source": [
        "# Assignment 2"
      ]
    },
    {
      "cell_type": "code",
      "execution_count": 1,
      "metadata": {
        "id": "VirmyCIqzXTC"
      },
      "outputs": [],
      "source": [
        "import numpy as np\n",
        "import torch\n",
        "import torch.nn as nn\n",
        "import torchvision\n",
        "import torchvision.transforms as transforms\n",
        "import matplotlib.pyplot as plt\n",
        "import matplotlib.colors as mplcolors\n",
        "from tqdm import tqdm\n",
        "from torch.utils.data import DataLoader\n",
        "from tabulate import tabulate"
      ]
    },
    {
      "cell_type": "markdown",
      "metadata": {
        "id": "7pEfzNsSzXTF"
      },
      "source": [
        "# 1. Load data (MNIST)"
      ]
    },
    {
      "cell_type": "markdown",
      "metadata": {
        "id": "Lggg9lOzBOGO"
      },
      "source": [
        "* **Q1: 1 point**"
      ]
    },
    {
      "cell_type": "code",
      "execution_count": 2,
      "metadata": {
        "colab": {
          "base_uri": "https://localhost:8080/"
        },
        "id": "Au5CdUocyjMD",
        "outputId": "230643e0-1056-4655-b8bd-f092d7fd9e61"
      },
      "outputs": [
        {
          "name": "stdout",
          "output_type": "stream",
          "text": [
            "Mounted at /content/drive\n"
          ]
        }
      ],
      "source": [
        "# mount drive\n",
        "from google.colab import drive\n",
        "drive.mount('/content/drive')"
      ]
    },
    {
      "cell_type": "code",
      "execution_count": 11,
      "metadata": {
        "id": "jo9hYoLQBDKj"
      },
      "outputs": [],
      "source": [
        "def load_mnist(data_dir, train, download, transform):\n",
        "    data = None\n",
        "    #########################################################################\n",
        "    # TODO: Implement a data loading function. Load MNIST dataset using     #\n",
        "    # torchvision.datasets and store the dataset in data varaible.          #\n",
        "    #########################################################################\n",
        "    # ******** START OF YOUR CODE (DO NOT DELETE/MODIFY THIS LINE) ******** #\n",
        "\n",
        "    data=torchvision.datasets.MNIST(root=data_dir,train=train,download=download,transform=transform)\n",
        "\n",
        "    # ********* END OF YOUR CODE (DO NOT DELETE/MODIFY THIS LINE) ********* #\n",
        "    return data"
      ]
    },
    {
      "cell_type": "code",
      "execution_count": 4,
      "metadata": {
        "id": "KHw8oWio9epz"
      },
      "outputs": [],
      "source": [
        "transform = transforms.Compose([transforms.ToTensor()])\n",
        "train_data = load_mnist(data_dir='/content/drive/MyDrive/ICE3050/dataset', train=True, download=True, transform=transform)\n",
        "test_data = load_mnist(data_dir='/content/drive/MyDrive/ICE3050/dataset', train=False, download=True, transform=transform)"
      ]
    },
    {
      "cell_type": "markdown",
      "metadata": {
        "id": "ortepRA3BRuY"
      },
      "source": [
        "# 2. Data statistics"
      ]
    },
    {
      "cell_type": "markdown",
      "metadata": {
        "id": "p3i0MQi-BSyd"
      },
      "source": [
        "* **Q2: 2 points (0.5 each)**"
      ]
    },
    {
      "cell_type": "code",
      "execution_count": 5,
      "metadata": {
        "id": "pLRxsYX5BBOj"
      },
      "outputs": [],
      "source": [
        "def print_data_stats(data):\n",
        "    ##########################################################################\n",
        "    # TODO: Implement a function that prints statistics of the data. The     #\n",
        "    # statistics MUST include (1) the number of images, (2) the size of each #\n",
        "    # image, (3) means and standard deviations of images, and (4) the number #\n",
        "    # of images per each class. Note that you can use any libraries you want #\n",
        "    # (numpy, pandas, etc), and the print format is not necessarily the same #\n",
        "    # as the example shown in the cell below.                                #\n",
        "    ##########################################################################\n",
        "    # ******** START OF YOUR CODE (DO NOT DELETE/MODIFY THIS LINE) ********* #\n",
        "\n",
        "    # TODO: (1) the number of images\n",
        "    n_data=len(data)\n",
        "\n",
        "    # TODO: (2) img size\n",
        "    size='x'.join(map(str,data.data.shape[1:]))\n",
        "\n",
        "    # TODO: (3) mean and std of images\n",
        "    data.data = data.data.type(torch.DoubleTensor)\n",
        "    mean=torch.mean(data.data)\n",
        "    std=torch.std(data.data,dim=(0,1,2))\n",
        "    ms = f'{mean:.2f} ({std:.2f})'\n",
        "\n",
        "    # TODO: (4) the number of images per class\n",
        "    _,n_img=np.unique(data.targets,return_counts=True)\n",
        "    n_img_per_class = ', '.join([f'{i}: {n:4d}' for i, n in enumerate(n_img)])\n",
        "\n",
        "    # TODO: print\n",
        "    data_stats = [ n_data, size, ms, n_img_per_class],\n",
        "    print(tabulate(data_stats,headers=['n img','img size','mean & std','n img per class']))\n",
        "    # ********* END OF YOUR CODE (DO NOT DELETE/MODIFY THIS LINE) ********** #"
      ]
    },
    {
      "cell_type": "code",
      "execution_count": 6,
      "metadata": {
        "colab": {
          "base_uri": "https://localhost:8080/"
        },
        "id": "hPJ3630eBAPy",
        "outputId": "7f0ca1f8-bf05-4865-a46c-0e85fbd55b25"
      },
      "outputs": [
        {
          "name": "stdout",
          "output_type": "stream",
          "text": [
            "  n img  img size    mean & std     n img per class\n",
            "-------  ----------  -------------  ----------------------------------------------------------------------------------------\n",
            "  60000  28x28       33.32 (78.57)  0: 5923, 1: 6742, 2: 5958, 3: 6131, 4: 5842, 5: 5421, 6: 5918, 7: 6265, 8: 5851, 9: 5949\n"
          ]
        }
      ],
      "source": [
        "print_data_stats(train_data)"
      ]
    },
    {
      "cell_type": "markdown",
      "metadata": {
        "id": "Po4vXS2sBW4j"
      },
      "source": [
        "* **Q3: 1 point**"
      ]
    },
    {
      "cell_type": "code",
      "execution_count": 7,
      "metadata": {
        "id": "xtAzWDvUA-m4"
      },
      "outputs": [],
      "source": [
        "def random_indices(n_class, labels):\n",
        "    indices = []\n",
        "    for i in range(n_class):\n",
        "        idx = np.where(labels == i)[0]\n",
        "        idx_selected = np.random.choice(idx, size=3)\n",
        "        indices.append(idx_selected)\n",
        "    return np.array(indices).T\n",
        "\n",
        "def plot_random_images(images, labels, n_class):\n",
        "    #########################################################################\n",
        "    # TODO: Implement a function that plots 3 random images per class.      #\n",
        "    #########################################################################\n",
        "    # ******** START OF YOUR CODE (DO NOT DELETE/MODIFY THIS LINE) ******** #\n",
        "\n",
        "    indices = random_indices(n_class, np.array(labels))\n",
        "\n",
        "    # nrow & ncol of figure\n",
        "    nrow, ncol = indices.shape\n",
        "\n",
        "    # plot\n",
        "    fig, axs = plt.subplots(nrow, ncol, figsize=(15, 5), constrained_layout=True)\n",
        "    for i in range(nrow):\n",
        "        for j in range(ncol):\n",
        "            img = images[indices[i][j]]\n",
        "            axs[i][j].imshow(img, vmin=0, vmax=255,cmap='gray')\n",
        "            axs[i][j].set_xticks([])\n",
        "            axs[i][j].set_yticks([])\n",
        "    \n",
        "    # ********* END OF YOUR CODE (DO NOT DELETE/MODIFY THIS LINE) ********* #"
      ]
    },
    {
      "cell_type": "code",
      "execution_count": 8,
      "metadata": {
        "colab": {
          "base_uri": "https://localhost:8080/",
          "height": 223
        },
        "id": "xzUbZilPA8WQ",
        "outputId": "184ebc76-0b3a-460a-8fcd-079d955f9dc4"
      },
      "outputs": [
        {
          "data": {
            "image/png": "[encoded data removed]",
            "text/plain": [
              "<Figure size 1080x360 with 30 Axes>"
            ]
          },
          "metadata": {},
          "output_type": "display_data"
        }
      ],
      "source": [
        "plot_random_images(train_data.data, train_data.targets, n_class=10)"
      ]
    },
    {
      "cell_type": "markdown",
      "metadata": {
        "id": "YU82vEeMBZFI"
      },
      "source": [
        "# 3. Building CNN in PyTorch"
      ]
    },
    {
      "cell_type": "markdown",
      "metadata": {
        "id": "2CcdvCKVB-GV"
      },
      "source": [
        "* **Q4: 2 points**"
      ]
    },
    {
      "cell_type": "code",
      "execution_count": null,
      "metadata": {
        "id": "dyYgift-A5Et"
      },
      "outputs": [],
      "source": [
        "class CNN(nn.Module):\n",
        "    def __init__(self):\n",
        "        #########################################################################################\n",
        "        # TODO: Implement __init__() function. Create a convolutional neural net using pytorch  #\n",
        "        # nn.Module. The CNN architecture is as follows:                                        #\n",
        "        #     [Layer1] -> Conv layer (in_channels=1, out_channels=6, kernel=5, stride=1)        #\n",
        "        #     [Layer2] -> ReLU layer                                                            #\n",
        "        #     [Layer3] -> MaxPool layer (kernel=2, stride=2)                                    #\n",
        "        #     [Layer4] -> Conv layer (in_channels=6, out_channels=16, kernel=2, stride=1)       #\n",
        "        #     [Layer5] -> ReLU layer                                                            #\n",
        "        #     [Layer6] -> MaxPool layer (kernel=2, stride=2)                                    #\n",
        "        #     [Layer7] -> Flatten layer                                                         #\n",
        "        #     [Layer8] -> Linear layer (in_features=400, out_features=120)                      #\n",
        "        #     [Layer9] -> ReLU layer                                                            #\n",
        "        #     [Layer10] -> Linear layer (in_features=120, out_features=84)                      #\n",
        "        #     [Layer11] -> ReLU layer                                                           #\n",
        "        #     [Layer12] -> Linear layer (in_features=84, out_features=10)                       #\n",
        "        #########################################################################################\n",
        "        # **************** START OF YOUR CODE (DO NOT DELETE/MODIFY THIS LINE) **************** #\n",
        "        \n",
        "        super(CNN, self).__init__()\n",
        "        self.net = nn.Sequential(\n",
        "            nn.Conv2d(in_channels=1, out_channels=6, kernel_size=5, stride=1),\n",
        "            nn.ReLU(),\n",
        "            nn.MaxPool2d(kernel_size=2, stride=2),\n",
        "            nn.Conv2d(in_channels=6, out_channels=16, kernel_size=2, stride=1),\n",
        "            nn.ReLU(),\n",
        "            nn.MaxPool2d(kernel_size=2, stride=2),\n",
        "            nn.Flatten(),\n",
        "            nn.Linear(in_features=400, out_features=120),\n",
        "            nn.ReLU(),\n",
        "            nn.Linear(in_features=120, out_features=84),\n",
        "            nn.ReLU(),\n",
        "            nn.Linear(in_features=84, out_features=10)\n",
        "        )\n",
        "\n",
        "        # ***************** END OF YOUR CODE (DO NOT DELETE/MODIFY THIS LINE) ***************** #\n",
        "    \n",
        "    def forward(self, x):\n",
        "        return self.net(x)"
      ]
    },
    {
      "cell_type": "markdown",
      "metadata": {
        "id": "tExD-ViYCERi"
      },
      "source": [
        "# 4. Main function\n"
      ]
    },
    {
      "cell_type": "markdown",
      "metadata": {
        "id": "uSJd2CVdCExC"
      },
      "source": [
        "* **Q5: 4 points (0.5 point for each from (1) to (4), 2 points for (5))**"
      ]
    },
    {
      "cell_type": "code",
      "execution_count": 56,
      "metadata": {
        "id": "cVXX_zNUs6li"
      },
      "outputs": [],
      "source": [
        "def train(train_data, test_data, epochs, batch_size, lr):\n",
        "    # set seed\n",
        "    torch.manual_seed(0)\n",
        "\n",
        "    # set device\n",
        "    device = torch.device('cuda' if torch.cuda.is_available() else 'cpu')\n",
        "    #################################################################################\n",
        "    # TODO: Implement a training function. You MUST implement all of the following: #\n",
        "    #       (1) Load dataset (both train and test data) into pytorch DataLoader.    #\n",
        "    #           Set shuffle argument True for train data and False for test data.   #\n",
        "    #       (2) Instantiate a CNN model and ship to a device.                       #\n",
        "    #           Please use the device variable above.                               #\n",
        "    #       (3) Instantiate a sgd optimizer.                                        #\n",
        "    #       (4) Instantiate a cross-entropy loss function.                          #\n",
        "    #       (5) Implement one_step function (see the function below for details).   #\n",
        "    #################################################################################\n",
        "    # ************ START OF YOUR CODE (DO NOT DELETE/MODIFY THIS LINE) ************ #\n",
        "\n",
        "    # TODO: (1) load dataset into dataloader\n",
        "    train_loader = DataLoader(train_data, batch_size, shuffle=True, num_workers=2)\n",
        "    test_loader = DataLoader(test_data, batch_size, shuffle=False, num_workers=2)\n",
        "\n",
        "    # TODO: (2) instantiate a CNN model and ship to device\n",
        "    model = CNN().to(device)\n",
        "\n",
        "    # TODO: (3) instantiate a sgd optimizer\n",
        "    optim = torch.optim.SGD(model.parameters(), lr=lr, momentum=0.9)\n",
        "\n",
        "    # TODO: (4) instantiate a cross-entropy loss function\n",
        "    loss_fn = nn.CrossEntropyLoss()\n",
        "    \n",
        "    # eval function\n",
        "    def calc_accuracy(yhat, y):\n",
        "        labels = torch.argmax(yhat, dim=1)\n",
        "        return (labels == y).sum().item() / y.size(0)\n",
        "\n",
        "    eval_fn = calc_accuracy\n",
        "\n",
        "    # lists to store training logs\n",
        "    train_losses, train_accrs = [], []\n",
        "    test_losses, test_accrs = [], []\n",
        "\n",
        "    # TODO: (5) Implement one_step function\n",
        "    def one_step(x, y, is_training):\n",
        "        ###################################################################################\n",
        "        # TODO: Implement step function. This function intakes x, y, and is_training and  #\n",
        "        # returns loss and accuracy. x is the input images and y is the corresponding     #\n",
        "        # class labels. is_training is a boolean argument indicating if this function is  #\n",
        "        # called in the training phase or the test phase. Note that it will be used in the#\n",
        "        # main training loop below. You MUST implement all of the following:              #\n",
        "        #       (5.1) forward propagation.                                                #\n",
        "        #       (5.2) compute cross-entropy loss and store the result in loss variable.   #\n",
        "        #       (5.3) compute accuracy and store the result in accr variable.             #\n",
        "        #       (5.4) set all gradient tensors to zero.                                   #\n",
        "        #       (5.5) compute the gradient of all leaf tensors (back propagation).        #\n",
        "        #       (5.6) update the parameters using the SGD algorithm.                      #\n",
        "        ###################################################################################\n",
        "        # ************* START OF YOUR CODE (DO NOT DELETE/MODIFY THIS LINE) ************* #\n",
        "        \n",
        "        # TODO: (5.1) forward propagation\n",
        "        yhat=model(x)\n",
        "        # TODO: (5.2) compute cross-entropy loss\n",
        "        loss=loss_fn(yhat,y)\n",
        "        # TODO: (5.3) compute accuracy\n",
        "        accr=eval_fn(yhat,y)\n",
        "\n",
        "        if is_training==True:\n",
        "            # TODO: (5.4) set gradient zero\n",
        "            optim.zero_grad()\n",
        "            # TODO: (5.5) compute gradients\n",
        "            loss.backward()\n",
        "            # TODO: (5.6) update parameters\n",
        "            optim.step()\n",
        "\n",
        "        # ************** END OF YOUR CODE (DO NOT DELETE/MODIFY THIS LINE) ************** #\n",
        "        return loss, accr\n",
        "    \n",
        "\n",
        "    # main training loop\n",
        "    for e in range(epochs):\n",
        "        train_loss = 0.\n",
        "        train_accr = 0.\n",
        "        for i, (x, y) in enumerate(tqdm(train_loader)):\n",
        "            # ship data to device\n",
        "            x = x.to(device)\n",
        "            y = y.to(device)\n",
        "            # NOTE: here we call the step function\n",
        "            loss, accr = one_step(x, y, is_training=True)\n",
        "            # accumulate the loss and accuracy\n",
        "            train_loss += loss\n",
        "            train_accr += accr\n",
        "\n",
        "        # save log\n",
        "        train_losses.append(train_loss.item()/(i+1))\n",
        "        train_accrs.append(train_accr/(i+1))\n",
        "\n",
        "        # validation\n",
        "        with torch.no_grad():\n",
        "            test_loss = 0.\n",
        "            test_accr = 0.\n",
        "            for i, (x, y) in enumerate(tqdm(test_loader)):\n",
        "                # ship data to device\n",
        "                x = x.to(device)\n",
        "                y = y.to(device)\n",
        "                loss, accr = one_step(x, y, is_training=False)\n",
        "                test_loss += loss\n",
        "                test_accr += accr\n",
        "            # save log\n",
        "            test_losses.append(test_loss.item()/(i+1))\n",
        "            test_accrs.append(test_accr/(i+1))\n",
        "        \n",
        "        # print log\n",
        "        log = f'\\nEpoch: {e+1}/{epochs}, ' + \\\n",
        "              f'loss (train): {train_losses[-1]:.4f}, ' + \\\n",
        "              f'accuracy (train): {train_accrs[-1]*100:2.2f}%, ' + \\\n",
        "              f'loss (test): {test_losses[-1]:.4f}, ' + \\\n",
        "              f'accuracy (test): {test_accrs[-1]*100:2.2f}%'\n",
        "        print(log,\"\\n\")\n",
        "    \n",
        "    print('Done.')\n",
        "    return train_losses, train_accrs, test_losses, test_accrs\n",
        "    # ************* END OF YOUR CODE (DO NOT DELETE/MODIFY THIS LINE) ************* #\n",
        "            "
      ]
    },
    {
      "cell_type": "code",
      "execution_count": 57,
      "metadata": {
        "colab": {
          "base_uri": "https://localhost:8080/"
        },
        "id": "L7cfRKAXuftg",
        "outputId": "9b4ce33b-43d1-48d5-e292-b84f417ff7b4"
      },
      "outputs": [
        {
          "name": "stderr",
          "output_type": "stream",
          "text": [
            "100%|██████████| 1875/1875 [00:13<00:00, 142.33it/s]\n",
            "100%|██████████| 313/313 [00:02<00:00, 107.00it/s]\n"
          ]
        },
        {
          "name": "stdout",
          "output_type": "stream",
          "text": [
            "\n",
            "Epoch: 1/5, loss (train): 0.3873, accuracy (train): 86.81%, loss (test): 0.0637, accuracy (test): 97.96% \n",
            "\n"
          ]
        },
        {
          "name": "stderr",
          "output_type": "stream",
          "text": [
            "100%|██████████| 1875/1875 [00:13<00:00, 140.94it/s]\n",
            "100%|██████████| 313/313 [00:01<00:00, 169.16it/s]\n"
          ]
        },
        {
          "name": "stdout",
          "output_type": "stream",
          "text": [
            "\n",
            "Epoch: 2/5, loss (train): 0.0717, accuracy (train): 97.77%, loss (test): 0.0527, accuracy (test): 98.26% \n",
            "\n"
          ]
        },
        {
          "name": "stderr",
          "output_type": "stream",
          "text": [
            "100%|██████████| 1875/1875 [00:13<00:00, 140.38it/s]\n",
            "100%|██████████| 313/313 [00:01<00:00, 173.08it/s]\n"
          ]
        },
        {
          "name": "stdout",
          "output_type": "stream",
          "text": [
            "\n",
            "Epoch: 3/5, loss (train): 0.0512, accuracy (train): 98.40%, loss (test): 0.0434, accuracy (test): 98.62% \n",
            "\n"
          ]
        },
        {
          "name": "stderr",
          "output_type": "stream",
          "text": [
            "100%|██████████| 1875/1875 [00:12<00:00, 145.06it/s]\n",
            "100%|██████████| 313/313 [00:01<00:00, 164.33it/s]\n"
          ]
        },
        {
          "name": "stdout",
          "output_type": "stream",
          "text": [
            "\n",
            "Epoch: 4/5, loss (train): 0.0409, accuracy (train): 98.72%, loss (test): 0.0461, accuracy (test): 98.53% \n",
            "\n"
          ]
        },
        {
          "name": "stderr",
          "output_type": "stream",
          "text": [
            "100%|██████████| 1875/1875 [00:13<00:00, 140.70it/s]\n",
            "100%|██████████| 313/313 [00:01<00:00, 178.46it/s]\n"
          ]
        },
        {
          "name": "stdout",
          "output_type": "stream",
          "text": [
            "\n",
            "Epoch: 5/5, loss (train): 0.0343, accuracy (train): 98.93%, loss (test): 0.0355, accuracy (test): 98.83% \n",
            "\n",
            "Done.\n"
          ]
        }
      ],
      "source": [
        "train_loss, train_accr, test_loss, test_accr = train(train_data, test_data, epochs=5, batch_size=32, lr=1e-2)"
      ]
    },
    {
      "cell_type": "code",
      "execution_count": 10,
      "metadata": {
        "id": "ZNiQC0cczAiA"
      },
      "outputs": [],
      "source": [
        "# unmount drive\n",
        "drive.flush_and_unmount()"
      ]
    },
    {
      "cell_type": "code",
      "execution_count": 58,
      "metadata": {
        "id": "8n-gZXkmxeqt"
      },
      "outputs": [],
      "source": []
    }
  ],
  "metadata": {
    "accelerator": "GPU",
    "colab": {
      "collapsed_sections": [],
      "provenance": []
    },
    "gpuClass": "standard",
    "kernelspec": {
      "display_name": "Python 3",
      "language": "python",
      "name": "python3"
    },
    "language_info": {
      "codemirror_mode": {
        "name": "ipython",
        "version": 3
      },
      "file_extension": ".py",
      "mimetype": "text/x-python",
      "name": "python",
      "nbconvert_exporter": "python",
      "pygments_lexer": "ipython3",
      "version": "3.9.13 (tags/v3.9.13:6de2ca5, May 17 2022, 16:36:42) [MSC v.1929 64 bit (AMD64)]"
    },
    "vscode": {
      "interpreter": {
        "hash": "f9414e3a70b7553c09c2a7cb47f2026c045adee5ba5b15553a63046fdb54a65f"
      }
    }
  },
  "nbformat": 4,
  "nbformat_minor": 0
}
